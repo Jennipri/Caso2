{
 "cells": [
  {
   "cell_type": "markdown",
   "metadata": {},
   "source": [
    "# Caso 2: Análisis de Sentimiento"
   ]
  },
  {
   "cell_type": "markdown",
   "metadata": {},
   "source": [
    "### En el siguiente notebook se presenta el análisis de sentimiento de lo tweets que han realizado diferentes usuarios sobre Caja Los Andes. Para esto  realzaremos 2 formas diferentes, Textblob y Vader.\n"
   ]
  },
  {
   "cell_type": "markdown",
   "metadata": {},
   "source": [
    "¿Qué son los analisis de sentimientos? El análisis de sentimiento se define como el proceso de determinar la opinión en cuanto a valoraciones, actitudes y emociones sobre un tema en concreto. Generalmente el análisis de sentimiento atiende a dos cometidos, en primer lugar, reconocer las expresiones de sentimiento y definir la orientación del sentimiento expresado por los  individuos. El análisis de sentimiento permite detectar la expresión positiva o negativa o neutra sobre un tema específico, un producto o servicio,"
   ]
  },
  {
   "cell_type": "markdown",
   "metadata": {},
   "source": [
    "## TextBlob"
   ]
  },
  {
   "cell_type": "code",
   "execution_count": 139,
   "metadata": {},
   "outputs": [],
   "source": [
    "import pandas as pd\n",
    "import re\n",
    "import matplotlib.pyplot as plt\n",
    "import seaborn as sns\n",
    "from textblob import TextBlob"
   ]
  },
  {
   "cell_type": "code",
   "execution_count": 140,
   "metadata": {},
   "outputs": [
    {
     "data": {
      "text/html": [
       "<div>\n",
       "<style scoped>\n",
       "    .dataframe tbody tr th:only-of-type {\n",
       "        vertical-align: middle;\n",
       "    }\n",
       "\n",
       "    .dataframe tbody tr th {\n",
       "        vertical-align: top;\n",
       "    }\n",
       "\n",
       "    .dataframe thead th {\n",
       "        text-align: right;\n",
       "    }\n",
       "</style>\n",
       "<table border=\"1\" class=\"dataframe\">\n",
       "  <thead>\n",
       "    <tr style=\"text-align: right;\">\n",
       "      <th></th>\n",
       "      <th>texto_tweet</th>\n",
       "    </tr>\n",
       "  </thead>\n",
       "  <tbody>\n",
       "    <tr>\n",
       "      <th>0</th>\n",
       "      <td>¡Atención! @ElMercurio_cl y @CajaLosAndes dest...</td>\n",
       "    </tr>\n",
       "    <tr>\n",
       "      <th>1</th>\n",
       "      <td>@CajaLosAndes el dia 9 de abril fui a  @Cinepo...</td>\n",
       "    </tr>\n",
       "    <tr>\n",
       "      <th>2</th>\n",
       "      <td>@CajaLosAndes Hola, Les envié DM para que me p...</td>\n",
       "    </tr>\n",
       "    <tr>\n",
       "      <th>3</th>\n",
       "      <td>@CajaLosAndes hola, necesito saber en que tram...</td>\n",
       "    </tr>\n",
       "    <tr>\n",
       "      <th>4</th>\n",
       "      <td>Convenio DIVBIE - Caja Los Andes\\n\\nPara el pe...</td>\n",
       "    </tr>\n",
       "    <tr>\n",
       "      <th>...</th>\n",
       "      <td>...</td>\n",
       "    </tr>\n",
       "    <tr>\n",
       "      <th>2644</th>\n",
       "      <td>@CajaLosAndes Necesito agregar mis datos banca...</td>\n",
       "    </tr>\n",
       "    <tr>\n",
       "      <th>2645</th>\n",
       "      <td>Me llamaron de @CajaLosAndes para ofrecerme un...</td>\n",
       "    </tr>\n",
       "    <tr>\n",
       "      <th>2646</th>\n",
       "      <td>@CajaLosAndes Estimados, buen día... existe al...</td>\n",
       "    </tr>\n",
       "    <tr>\n",
       "      <th>2647</th>\n",
       "      <td>@yesseni55730686 @tiomattu @CajaLosAndes @gabr...</td>\n",
       "    </tr>\n",
       "    <tr>\n",
       "      <th>2648</th>\n",
       "      <td>@CajaLosAndes @premio_avonni Estimados, buen d...</td>\n",
       "    </tr>\n",
       "  </tbody>\n",
       "</table>\n",
       "<p>2649 rows × 1 columns</p>\n",
       "</div>"
      ],
      "text/plain": [
       "                                            texto_tweet\n",
       "0     ¡Atención! @ElMercurio_cl y @CajaLosAndes dest...\n",
       "1     @CajaLosAndes el dia 9 de abril fui a  @Cinepo...\n",
       "2     @CajaLosAndes Hola, Les envié DM para que me p...\n",
       "3     @CajaLosAndes hola, necesito saber en que tram...\n",
       "4     Convenio DIVBIE - Caja Los Andes\\n\\nPara el pe...\n",
       "...                                                 ...\n",
       "2644  @CajaLosAndes Necesito agregar mis datos banca...\n",
       "2645  Me llamaron de @CajaLosAndes para ofrecerme un...\n",
       "2646  @CajaLosAndes Estimados, buen día... existe al...\n",
       "2647  @yesseni55730686 @tiomattu @CajaLosAndes @gabr...\n",
       "2648  @CajaLosAndes @premio_avonni Estimados, buen d...\n",
       "\n",
       "[2649 rows x 1 columns]"
      ]
     },
     "execution_count": 140,
     "metadata": {},
     "output_type": "execute_result"
    }
   ],
   "source": [
    "df = pd.read_csv('dataset_Caso_2.csv')\n",
    "df"
   ]
  },
  {
   "cell_type": "code",
   "execution_count": 141,
   "metadata": {},
   "outputs": [
    {
     "data": {
      "text/html": [
       "<div>\n",
       "<style scoped>\n",
       "    .dataframe tbody tr th:only-of-type {\n",
       "        vertical-align: middle;\n",
       "    }\n",
       "\n",
       "    .dataframe tbody tr th {\n",
       "        vertical-align: top;\n",
       "    }\n",
       "\n",
       "    .dataframe thead th {\n",
       "        text-align: right;\n",
       "    }\n",
       "</style>\n",
       "<table border=\"1\" class=\"dataframe\">\n",
       "  <thead>\n",
       "    <tr style=\"text-align: right;\">\n",
       "      <th></th>\n",
       "      <th>texto_tweet</th>\n",
       "    </tr>\n",
       "  </thead>\n",
       "  <tbody>\n",
       "    <tr>\n",
       "      <th>0</th>\n",
       "      <td>atención  y  destacaron a congresofuturo como ...</td>\n",
       "    </tr>\n",
       "    <tr>\n",
       "      <th>1</th>\n",
       "      <td>el dia  de abril fui a   y no me aceptaron el...</td>\n",
       "    </tr>\n",
       "    <tr>\n",
       "      <th>2</th>\n",
       "      <td>hola les envié dm para que me puedan ayudar c...</td>\n",
       "    </tr>\n",
       "    <tr>\n",
       "      <th>3</th>\n",
       "      <td>hola necesito saber en que tramo de carga fam...</td>\n",
       "    </tr>\n",
       "    <tr>\n",
       "      <th>4</th>\n",
       "      <td>convenio divbie  caja los andes\\n\\npara el per...</td>\n",
       "    </tr>\n",
       "    <tr>\n",
       "      <th>...</th>\n",
       "      <td>...</td>\n",
       "    </tr>\n",
       "    <tr>\n",
       "      <th>2644</th>\n",
       "      <td>necesito agregar mis datos bancarios para el ...</td>\n",
       "    </tr>\n",
       "    <tr>\n",
       "      <th>2645</th>\n",
       "      <td>me llamaron de  para ofrecerme un seguro y me ...</td>\n",
       "    </tr>\n",
       "    <tr>\n",
       "      <th>2646</th>\n",
       "      <td>estimados buen día existe alguna otra forma d...</td>\n",
       "    </tr>\n",
       "    <tr>\n",
       "      <th>2647</th>\n",
       "      <td>y cuanto alcanzaste a pagar cuantas cuotas...</td>\n",
       "    </tr>\n",
       "    <tr>\n",
       "      <th>2648</th>\n",
       "      <td>estimados buen día existe alguna otra forma ...</td>\n",
       "    </tr>\n",
       "  </tbody>\n",
       "</table>\n",
       "<p>2649 rows × 1 columns</p>\n",
       "</div>"
      ],
      "text/plain": [
       "                                            texto_tweet\n",
       "0     atención  y  destacaron a congresofuturo como ...\n",
       "1      el dia  de abril fui a   y no me aceptaron el...\n",
       "2      hola les envié dm para que me puedan ayudar c...\n",
       "3      hola necesito saber en que tramo de carga fam...\n",
       "4     convenio divbie  caja los andes\\n\\npara el per...\n",
       "...                                                 ...\n",
       "2644   necesito agregar mis datos bancarios para el ...\n",
       "2645  me llamaron de  para ofrecerme un seguro y me ...\n",
       "2646   estimados buen día existe alguna otra forma d...\n",
       "2647      y cuanto alcanzaste a pagar cuantas cuotas...\n",
       "2648    estimados buen día existe alguna otra forma ...\n",
       "\n",
       "[2649 rows x 1 columns]"
      ]
     },
     "execution_count": 141,
     "metadata": {},
     "output_type": "execute_result"
    }
   ],
   "source": [
    "#limpiamos los tweets\n",
    "# Elimina menciones y  enlaces en los tweets\n",
    "df['texto_tweet'] = df['texto_tweet'].apply(lambda x: re.sub(r'@\\w+', '', x))\n",
    "df['texto_tweet'] = df['texto_tweet'].apply(lambda x: re.sub(r'http\\S+', '', x))\n",
    "# Elimina caracteres especiales y  números\n",
    "df['texto_tweet'] = df['texto_tweet'].apply(lambda x: re.sub(r'[^\\w\\s]', '', x))\n",
    "df['texto_tweet'] = df['texto_tweet'].apply(lambda x: re.sub(r'\\d+', '', x))\n",
    "# Convierte el tweet a minúsculas\n",
    "df['texto_tweet'] = df['texto_tweet'].str.lower()\n",
    "df"
   ]
  },
  {
   "cell_type": "markdown",
   "metadata": {},
   "source": [
    "Con TextBlob, obtenemos una métrica de polaridad y subjetividad. La polaridad es el sentimiento mismo, que va de -1 a +1. La subjetividad es una medida del sentimiento siendo objetivo a subjetivo, y va de 0 a 1."
   ]
  },
  {
   "cell_type": "code",
   "execution_count": 142,
   "metadata": {
    "scrolled": true
   },
   "outputs": [],
   "source": [
    "df['polaridad'] = df['texto_tweet'].apply(lambda x: TextBlob(x).sentiment.polarity)"
   ]
  },
  {
   "cell_type": "code",
   "execution_count": 143,
   "metadata": {},
   "outputs": [],
   "source": [
    "df['subjetividad']=df['texto_tweet'].apply(lambda x: TextBlob(x).sentiment.subjectivity)"
   ]
  },
  {
   "cell_type": "code",
   "execution_count": 144,
   "metadata": {},
   "outputs": [
    {
     "data": {
      "text/html": [
       "<div>\n",
       "<style scoped>\n",
       "    .dataframe tbody tr th:only-of-type {\n",
       "        vertical-align: middle;\n",
       "    }\n",
       "\n",
       "    .dataframe tbody tr th {\n",
       "        vertical-align: top;\n",
       "    }\n",
       "\n",
       "    .dataframe thead th {\n",
       "        text-align: right;\n",
       "    }\n",
       "</style>\n",
       "<table border=\"1\" class=\"dataframe\">\n",
       "  <thead>\n",
       "    <tr style=\"text-align: right;\">\n",
       "      <th></th>\n",
       "      <th>texto_tweet</th>\n",
       "      <th>polaridad</th>\n",
       "      <th>subjetividad</th>\n",
       "    </tr>\n",
       "  </thead>\n",
       "  <tbody>\n",
       "    <tr>\n",
       "      <th>0</th>\n",
       "      <td>atención  y  destacaron a congresofuturo como ...</td>\n",
       "      <td>0.033333</td>\n",
       "      <td>0.066667</td>\n",
       "    </tr>\n",
       "    <tr>\n",
       "      <th>1</th>\n",
       "      <td>el dia  de abril fui a   y no me aceptaron el...</td>\n",
       "      <td>0.150000</td>\n",
       "      <td>0.650000</td>\n",
       "    </tr>\n",
       "    <tr>\n",
       "      <th>2</th>\n",
       "      <td>hola les envié dm para que me puedan ayudar c...</td>\n",
       "      <td>0.000000</td>\n",
       "      <td>0.000000</td>\n",
       "    </tr>\n",
       "    <tr>\n",
       "      <th>3</th>\n",
       "      <td>hola necesito saber en que tramo de carga fam...</td>\n",
       "      <td>0.375000</td>\n",
       "      <td>0.500000</td>\n",
       "    </tr>\n",
       "    <tr>\n",
       "      <th>4</th>\n",
       "      <td>convenio divbie  caja los andes\\n\\npara el per...</td>\n",
       "      <td>0.187500</td>\n",
       "      <td>0.400000</td>\n",
       "    </tr>\n",
       "    <tr>\n",
       "      <th>...</th>\n",
       "      <td>...</td>\n",
       "      <td>...</td>\n",
       "      <td>...</td>\n",
       "    </tr>\n",
       "    <tr>\n",
       "      <th>2644</th>\n",
       "      <td>necesito agregar mis datos bancarios para el ...</td>\n",
       "      <td>0.000000</td>\n",
       "      <td>0.000000</td>\n",
       "    </tr>\n",
       "    <tr>\n",
       "      <th>2645</th>\n",
       "      <td>me llamaron de  para ofrecerme un seguro y me ...</td>\n",
       "      <td>0.000000</td>\n",
       "      <td>0.000000</td>\n",
       "    </tr>\n",
       "    <tr>\n",
       "      <th>2646</th>\n",
       "      <td>estimados buen día existe alguna otra forma d...</td>\n",
       "      <td>0.000000</td>\n",
       "      <td>0.000000</td>\n",
       "    </tr>\n",
       "    <tr>\n",
       "      <th>2647</th>\n",
       "      <td>y cuanto alcanzaste a pagar cuantas cuotas...</td>\n",
       "      <td>0.000000</td>\n",
       "      <td>0.000000</td>\n",
       "    </tr>\n",
       "    <tr>\n",
       "      <th>2648</th>\n",
       "      <td>estimados buen día existe alguna otra forma ...</td>\n",
       "      <td>0.000000</td>\n",
       "      <td>0.000000</td>\n",
       "    </tr>\n",
       "  </tbody>\n",
       "</table>\n",
       "<p>2649 rows × 3 columns</p>\n",
       "</div>"
      ],
      "text/plain": [
       "                                            texto_tweet  polaridad  \\\n",
       "0     atención  y  destacaron a congresofuturo como ...   0.033333   \n",
       "1      el dia  de abril fui a   y no me aceptaron el...   0.150000   \n",
       "2      hola les envié dm para que me puedan ayudar c...   0.000000   \n",
       "3      hola necesito saber en que tramo de carga fam...   0.375000   \n",
       "4     convenio divbie  caja los andes\\n\\npara el per...   0.187500   \n",
       "...                                                 ...        ...   \n",
       "2644   necesito agregar mis datos bancarios para el ...   0.000000   \n",
       "2645  me llamaron de  para ofrecerme un seguro y me ...   0.000000   \n",
       "2646   estimados buen día existe alguna otra forma d...   0.000000   \n",
       "2647      y cuanto alcanzaste a pagar cuantas cuotas...   0.000000   \n",
       "2648    estimados buen día existe alguna otra forma ...   0.000000   \n",
       "\n",
       "      subjetividad  \n",
       "0         0.066667  \n",
       "1         0.650000  \n",
       "2         0.000000  \n",
       "3         0.500000  \n",
       "4         0.400000  \n",
       "...            ...  \n",
       "2644      0.000000  \n",
       "2645      0.000000  \n",
       "2646      0.000000  \n",
       "2647      0.000000  \n",
       "2648      0.000000  \n",
       "\n",
       "[2649 rows x 3 columns]"
      ]
     },
     "execution_count": 144,
     "metadata": {},
     "output_type": "execute_result"
    }
   ],
   "source": [
    "df"
   ]
  },
  {
   "cell_type": "markdown",
   "metadata": {},
   "source": [
    "Según la métrica de polaridad categorizamos los tweets como positivo, neutro y negativo para asi graficar."
   ]
  },
  {
   "cell_type": "code",
   "execution_count": 146,
   "metadata": {},
   "outputs": [
    {
     "data": {
      "image/png": "[encoded data removed]",
      "text/plain": [
       "<Figure size 576x432 with 1 Axes>"
      ]
     },
     "metadata": {},
     "output_type": "display_data"
    }
   ],
   "source": [
    "df['tweet_categorizado'] = df['polaridad'].apply(lambda x: 'positivo' if x > 0 else ('negativo' if x < 0 else 'neutro'))\n",
    "sns.set(style=\"darkgrid\")\n",
    "plt.figure(figsize=(8, 6))\n",
    "ax = sns.countplot(x='tweet_categorizado', data=df)\n",
    "plt.title('Distribución de Sentimientos')\n",
    "plt.xlabel('Sentimiento')\n",
    "plt.ylabel('Número de comentarios')\n",
    "\n",
    "# Mostrar el número de comentarios encima de cada barra \n",
    "for p in ax.patches:\n",
    "    ax.annotate(f'{int(p.get_height())}', (p.get_x() + p.get_width() / 2., p.get_height()), ha='center', va='center', xytext=(0, 5), textcoords='offset points')\n",
    "\n",
    "plt.show()"
   ]
  },
  {
   "cell_type": "code",
   "execution_count": 150,
   "metadata": {},
   "outputs": [
    {
     "data": {
      "text/plain": [
       "texto_tweet            vamos social jajaja valen callampa pago una c...\n",
       "polaridad                                                     0.0888889\n",
       "subjetividad                                                   0.111111\n",
       "tweet_categorizado                                             positivo\n",
       "Name: 2633, dtype: object"
      ]
     },
     "execution_count": 150,
     "metadata": {},
     "output_type": "execute_result"
    }
   ],
   "source": [
    "df.loc[2633]"
   ]
  },
  {
   "cell_type": "code",
   "execution_count": 151,
   "metadata": {},
   "outputs": [
    {
     "data": {
      "text/plain": [
       "' vamos social jajaja valen callampa pago una cuota más de lo legal fui a repactar me hicieron una tapade social uds no tienen nada'"
      ]
     },
     "execution_count": 151,
     "metadata": {},
     "output_type": "execute_result"
    }
   ],
   "source": [
    "df['texto_tweet'][2633]"
   ]
  },
  {
   "cell_type": "markdown",
   "metadata": {},
   "source": [
    "Al analizar el dataset y entender un poco sobre las librerías de análisis de sentimientos, se pueden identificar algunos errores, como el ejemplo anterior de un tweet categorizado como positivo pero que en realidad es negativo. Esto se debe a las diferencias en modismos y palabras entre países. Para la siguiente forma de analisis de sentimiento, incluiremos palabras que los chilenos consideran negativas y positivas.\n",
    "Se ha observado que hay muchos tweets repetidos en el dataset. Para evitar que estos tweets influyan en el análisis de sentimiento, se omitirán en la siguiente fase del análisis."
   ]
  },
  {
   "cell_type": "markdown",
   "metadata": {},
   "source": [
    "## VADER"
   ]
  },
  {
   "cell_type": "code",
   "execution_count": 155,
   "metadata": {},
   "outputs": [],
   "source": [
    "import pandas as pd\n",
    "import re\n",
    "import matplotlib.pyplot as plt\n",
    "import seaborn as sns\n",
    "from vaderSentiment.vaderSentiment import SentimentIntensityAnalyzer"
   ]
  },
  {
   "cell_type": "markdown",
   "metadata": {},
   "source": [
    "Aca incluiremos algunas palabras claves que nos pueden ayudar con el análisis"
   ]
  },
  {
   "cell_type": "code",
   "execution_count": 165,
   "metadata": {},
   "outputs": [],
   "source": [
    "Garabatos = {\n",
    "    'callampa': -1,\n",
    "    'wea': -1,\n",
    "    'ql': -1,\n",
    "    'aweonao': -1,\n",
    "    'wns': -1,\n",
    "    'hdp': -1,\n",
    "    'sin verguenzas': -1,\n",
    "    'sinverguenzas': -1,\n",
    "    'wn' : -1,\n",
    "    'bkn' : 1\n",
    "}\n",
    "\n",
    "def analizar_sentimiento(texto):\n",
    "    analyzer = SentimentIntensityAnalyzer()\n",
    "    polaridad = analyzer.polarity_scores(texto)['compound']\n",
    "    \n",
    "    # Verificar si una palabra clave está presente en el texto\n",
    "    for palabra, valor_polaridad in Garabatos.items():\n",
    "        if palabra in texto:\n",
    "            polaridad += valor_polaridad  # actualizar la polaridad\n",
    "    \n",
    "    return polaridad\n"
   ]
  },
  {
   "cell_type": "code",
   "execution_count": 166,
   "metadata": {},
   "outputs": [
    {
     "data": {
      "text/html": [
       "<div>\n",
       "<style scoped>\n",
       "    .dataframe tbody tr th:only-of-type {\n",
       "        vertical-align: middle;\n",
       "    }\n",
       "\n",
       "    .dataframe tbody tr th {\n",
       "        vertical-align: top;\n",
       "    }\n",
       "\n",
       "    .dataframe thead th {\n",
       "        text-align: right;\n",
       "    }\n",
       "</style>\n",
       "<table border=\"1\" class=\"dataframe\">\n",
       "  <thead>\n",
       "    <tr style=\"text-align: right;\">\n",
       "      <th></th>\n",
       "      <th>texto_tweet</th>\n",
       "    </tr>\n",
       "  </thead>\n",
       "  <tbody>\n",
       "    <tr>\n",
       "      <th>0</th>\n",
       "      <td>¡Atención! @ElMercurio_cl y @CajaLosAndes dest...</td>\n",
       "    </tr>\n",
       "    <tr>\n",
       "      <th>1</th>\n",
       "      <td>@CajaLosAndes el dia 9 de abril fui a  @Cinepo...</td>\n",
       "    </tr>\n",
       "    <tr>\n",
       "      <th>2</th>\n",
       "      <td>@CajaLosAndes Hola, Les envié DM para que me p...</td>\n",
       "    </tr>\n",
       "    <tr>\n",
       "      <th>3</th>\n",
       "      <td>@CajaLosAndes hola, necesito saber en que tram...</td>\n",
       "    </tr>\n",
       "    <tr>\n",
       "      <th>4</th>\n",
       "      <td>Convenio DIVBIE - Caja Los Andes\\n\\nPara el pe...</td>\n",
       "    </tr>\n",
       "    <tr>\n",
       "      <th>...</th>\n",
       "      <td>...</td>\n",
       "    </tr>\n",
       "    <tr>\n",
       "      <th>2644</th>\n",
       "      <td>@CajaLosAndes Necesito agregar mis datos banca...</td>\n",
       "    </tr>\n",
       "    <tr>\n",
       "      <th>2645</th>\n",
       "      <td>Me llamaron de @CajaLosAndes para ofrecerme un...</td>\n",
       "    </tr>\n",
       "    <tr>\n",
       "      <th>2646</th>\n",
       "      <td>@CajaLosAndes Estimados, buen día... existe al...</td>\n",
       "    </tr>\n",
       "    <tr>\n",
       "      <th>2647</th>\n",
       "      <td>@yesseni55730686 @tiomattu @CajaLosAndes @gabr...</td>\n",
       "    </tr>\n",
       "    <tr>\n",
       "      <th>2648</th>\n",
       "      <td>@CajaLosAndes @premio_avonni Estimados, buen d...</td>\n",
       "    </tr>\n",
       "  </tbody>\n",
       "</table>\n",
       "<p>2649 rows × 1 columns</p>\n",
       "</div>"
      ],
      "text/plain": [
       "                                            texto_tweet\n",
       "0     ¡Atención! @ElMercurio_cl y @CajaLosAndes dest...\n",
       "1     @CajaLosAndes el dia 9 de abril fui a  @Cinepo...\n",
       "2     @CajaLosAndes Hola, Les envié DM para que me p...\n",
       "3     @CajaLosAndes hola, necesito saber en que tram...\n",
       "4     Convenio DIVBIE - Caja Los Andes\\n\\nPara el pe...\n",
       "...                                                 ...\n",
       "2644  @CajaLosAndes Necesito agregar mis datos banca...\n",
       "2645  Me llamaron de @CajaLosAndes para ofrecerme un...\n",
       "2646  @CajaLosAndes Estimados, buen día... existe al...\n",
       "2647  @yesseni55730686 @tiomattu @CajaLosAndes @gabr...\n",
       "2648  @CajaLosAndes @premio_avonni Estimados, buen d...\n",
       "\n",
       "[2649 rows x 1 columns]"
      ]
     },
     "execution_count": 166,
     "metadata": {},
     "output_type": "execute_result"
    }
   ],
   "source": [
    "df = pd.read_csv('dataset_Caso_2.csv')\n",
    "df"
   ]
  },
  {
   "cell_type": "code",
   "execution_count": 167,
   "metadata": {},
   "outputs": [],
   "source": [
    "df['texto_tweet'] = df['texto_tweet'].apply(lambda x: re.sub(r'@\\w+', '', x))\n",
    "df['texto_tweet'] = df['texto_tweet'].apply(lambda x: re.sub(r'http\\S+', '', x))\n",
    "df['texto_tweet'] = df['texto_tweet'].apply(lambda x: re.sub(r'[^\\w\\s]', '', x))\n",
    "df['texto_tweet'] = df['texto_tweet'].apply(lambda x: re.sub(r'\\d+', '', x))\n",
    "df['texto_tweet'] = df['texto_tweet'].str.lower()"
   ]
  },
  {
   "cell_type": "code",
   "execution_count": 168,
   "metadata": {},
   "outputs": [
    {
     "data": {
      "text/html": [
       "<div>\n",
       "<style scoped>\n",
       "    .dataframe tbody tr th:only-of-type {\n",
       "        vertical-align: middle;\n",
       "    }\n",
       "\n",
       "    .dataframe tbody tr th {\n",
       "        vertical-align: top;\n",
       "    }\n",
       "\n",
       "    .dataframe thead th {\n",
       "        text-align: right;\n",
       "    }\n",
       "</style>\n",
       "<table border=\"1\" class=\"dataframe\">\n",
       "  <thead>\n",
       "    <tr style=\"text-align: right;\">\n",
       "      <th></th>\n",
       "      <th>texto_tweet</th>\n",
       "    </tr>\n",
       "  </thead>\n",
       "  <tbody>\n",
       "    <tr>\n",
       "      <th>0</th>\n",
       "      <td>atención  y  destacaron a congresofuturo como ...</td>\n",
       "    </tr>\n",
       "    <tr>\n",
       "      <th>1</th>\n",
       "      <td>el dia  de abril fui a   y no me aceptaron el...</td>\n",
       "    </tr>\n",
       "    <tr>\n",
       "      <th>2</th>\n",
       "      <td>hola les envié dm para que me puedan ayudar c...</td>\n",
       "    </tr>\n",
       "    <tr>\n",
       "      <th>3</th>\n",
       "      <td>hola necesito saber en que tramo de carga fam...</td>\n",
       "    </tr>\n",
       "    <tr>\n",
       "      <th>4</th>\n",
       "      <td>convenio divbie  caja los andes\\n\\npara el per...</td>\n",
       "    </tr>\n",
       "    <tr>\n",
       "      <th>...</th>\n",
       "      <td>...</td>\n",
       "    </tr>\n",
       "    <tr>\n",
       "      <th>2642</th>\n",
       "      <td>cansa rogar que me devuelvan el dinero  mal ...</td>\n",
       "    </tr>\n",
       "    <tr>\n",
       "      <th>2643</th>\n",
       "      <td>me quedé sin trabajo y debo solo  cuota de mi...</td>\n",
       "    </tr>\n",
       "    <tr>\n",
       "      <th>2644</th>\n",
       "      <td>necesito agregar mis datos bancarios para el ...</td>\n",
       "    </tr>\n",
       "    <tr>\n",
       "      <th>2645</th>\n",
       "      <td>me llamaron de  para ofrecerme un seguro y me ...</td>\n",
       "    </tr>\n",
       "    <tr>\n",
       "      <th>2647</th>\n",
       "      <td>y cuanto alcanzaste a pagar cuantas cuotas...</td>\n",
       "    </tr>\n",
       "  </tbody>\n",
       "</table>\n",
       "<p>2197 rows × 1 columns</p>\n",
       "</div>"
      ],
      "text/plain": [
       "                                            texto_tweet\n",
       "0     atención  y  destacaron a congresofuturo como ...\n",
       "1      el dia  de abril fui a   y no me aceptaron el...\n",
       "2      hola les envié dm para que me puedan ayudar c...\n",
       "3      hola necesito saber en que tramo de carga fam...\n",
       "4     convenio divbie  caja los andes\\n\\npara el per...\n",
       "...                                                 ...\n",
       "2642    cansa rogar que me devuelvan el dinero  mal ...\n",
       "2643   me quedé sin trabajo y debo solo  cuota de mi...\n",
       "2644   necesito agregar mis datos bancarios para el ...\n",
       "2645  me llamaron de  para ofrecerme un seguro y me ...\n",
       "2647      y cuanto alcanzaste a pagar cuantas cuotas...\n",
       "\n",
       "[2197 rows x 1 columns]"
      ]
     },
     "execution_count": 168,
     "metadata": {},
     "output_type": "execute_result"
    }
   ],
   "source": [
    "df.drop_duplicates(subset=['texto_tweet'],inplace = True) # eliminamos tweets repetidos\n",
    "df"
   ]
  },
  {
   "cell_type": "code",
   "execution_count": 169,
   "metadata": {},
   "outputs": [],
   "source": [
    "df['sentimiento'] = df['texto_tweet'].apply(analizar_sentimiento)\n",
    "df['sentimiento'] = df['sentimiento'].apply(lambda x: max(-1, min(1, x)))\n",
    "df['tweet_categorizado'] = df['sentimiento'].apply(lambda x: 'positivo' if x > 0 else ('negativo' if x < 0 else 'neutro'))"
   ]
  },
  {
   "cell_type": "code",
   "execution_count": 170,
   "metadata": {},
   "outputs": [
    {
     "data": {
      "image/png": "[encoded data removed]",
      "text/plain": [
       "<Figure size 576x432 with 1 Axes>"
      ]
     },
     "metadata": {},
     "output_type": "display_data"
    }
   ],
   "source": [
    "plt.style.use('tableau-colorblind10')\n",
    "plt.figure(figsize=(8, 6))\n",
    "orden_categorias = ['negativo', 'neutro', 'positivo']\n",
    "colores = ['red', 'blue', 'green']\n",
    "ax = sns.countplot(x='tweet_categorizado', data=df, order=orden_categorias, palette=colores)\n",
    "plt.title('Distribución de Sentimientos')\n",
    "plt.xlabel('Sentimiento')\n",
    "plt.ylabel('Número de comentarios')\n",
    "\n",
    "# Mostrar el número de comentarios encima de cada barra\n",
    "for p in ax.patches:\n",
    "    ax.annotate(f'{int(p.get_height())}', (p.get_x() + p.get_width() / 2., p.get_height()), ha='center', va='center', xytext=(0, 5), textcoords='offset points')\n",
    "\n",
    "plt.show()"
   ]
  },
  {
   "cell_type": "code",
   "execution_count": 164,
   "metadata": {},
   "outputs": [
    {
     "data": {
      "text/plain": [
       "texto_tweet            vamos social jajaja valen callampa pago una c...\n",
       "sentimiento                                                          -1\n",
       "tweet_categorizado                                             negativo\n",
       "Name: 2633, dtype: object"
      ]
     },
     "execution_count": 164,
     "metadata": {},
     "output_type": "execute_result"
    }
   ],
   "source": [
    "df.loc[2633]"
   ]
  },
  {
   "cell_type": "code",
   "execution_count": null,
   "metadata": {},
   "outputs": [],
   "source": []
  }
 ],
 "metadata": {
  "kernelspec": {
   "display_name": "Python 3",
   "language": "python",
   "name": "python3"
  },
  "language_info": {
   "codemirror_mode": {
    "name": "ipython",
    "version": 3
   },
   "file_extension": ".py",
   "mimetype": "text/x-python",
   "name": "python",
   "nbconvert_exporter": "python",
   "pygments_lexer": "ipython3",
   "version": "3.7.6"
  }
 },
 "nbformat": 4,
 "nbformat_minor": 4
}
